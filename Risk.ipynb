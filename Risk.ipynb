{
 "cells": [
  {
   "cell_type": "code",
   "execution_count": null,
   "metadata": {},
   "outputs": [],
   "source": [
    "# rules of the game\n",
    "\"\"\"\n",
    "1) Equipment :\n",
    "3 red dice for attack\n",
    "3 blue dice for defense\n",
    "44 risk cards 'including 2 jokers: LATER'and 42 territories.\n",
    "14 mission cards: LATER\n",
    "No limit of troop\n",
    "\n",
    "2) preliminary set up of game\n",
    "Choose of troops depending of number of players => 3 players = 35 troops.....\n",
    "distribute all the territories randomly to the players and add exactly one troop of the player  on the territory.\n",
    "put the remaining troops in the stock of each Player\n",
    "\n",
    "\n",
    "Game for 2 players rules with neutral army: LATER\n",
    "40 troops per Player\n",
    "28 troops for the neutral army\n",
    "14 territories for the neutral army\n",
    "14 territories for each Player.\n",
    "2 troops on the territories of the neutral army\n",
    "1 troop on each territory of each player\n",
    "\n",
    "3)Who goes first? ==> give a player number \n",
    "\n",
    "4)The game itself\n",
    "    a)Additionnal set up of the game:\n",
    "Player 1 add 1 troop on one of its territories \n",
    "Player 2 add 1 troop on one of its territories ....and so on until all the troops are on the boardgame.\n",
    "    b) Let's begin the actual game\n",
    "Phase 1: reinforcement\n",
    "    Get on 1 troop for every 3 territories you own\n",
    "    Get bonus troops if you own the whole continent. Depends on the continent.\n",
    "    Get extra troops depending of the combinations of the symbols on 3 risk cards you play : 3 infantry: 4 troops, 3 cavalry: 6 troops, 3 artillery: 8 troops, one of each :10 troops. start with only one or 2 combinations.\n",
    "    Get extra troops depending of the territories on the risk cards you play: 2 extra troops if you are the owner of the territory at the moment you play\n",
    "   f \n",
    "Phase 2: Attack\n",
    "    Announce which territory attacks which territory. Be sure you take a atttacking territories from the territories you are occupying, and that those 2 territories are\n",
    "    actually neighbours.\n",
    "    Check if the destination territory does not belong to the player and if the number of troops is higher than 1 'no empty territory rule'\n",
    "    decide our many troops you want to commit for the attack\n",
    "    make sure that the number of troops attacking is <4 LATER\n",
    "    roll the 3 dices on both sides and compared the max of each side . The max wins and the min loses one troop . \n",
    "    Automatically roll the dices until there a strict difference between the dice.\n",
    "    maybe LATER : If the player attacking wins one or more territories : he wins 1 'territory cards '. Max 5 cars in the player hands==> he has to play them when its his turn and amount exceed 3.\n",
    "    the player can keep attacking as long as he wants or until he cannot play 'loss or only territories with one troop'\n",
    "    Display the board after every action\n",
    "\n",
    "Phase 3: Manoeuver\n",
    "    Can move only one group of troops from one territory to another . The territories have to belong to the player and no empty territory rule.\n",
    "    'move function to be create to handle phase 3 and phase 2 too'\n",
    "    \n",
    "5) Engame\n",
    "Either Player conquers at least 30 territories.\n",
    "    \n",
    "\"\"\""
   ]
  },
  {
   "cell_type": "code",
   "execution_count": 7,
   "metadata": {},
   "outputs": [],
   "source": [
    "class Country:\n",
    "    \n",
    "    def __init__(self,country_name):\n",
    "        self.name=country_name\n",
    "        self.color='White'\n",
    "        self.nbtroops=0\n",
    "     \n",
    "    #udpate the color of the coutry with the color of the player which occupied it.\n",
    "    def update_color_of_country(self,Player_obj):\n",
    "        self.color=Player_ojb.color\n",
    "        return self.color\n",
    "    \n",
    "    #udpate the number of troops which are in the country.\n",
    "    def update_nb_troops(self,new_troop_nb):\n",
    "        self.nbtroops=new_troop_nb\n",
    "        return self.nbtroops\n",
    "        "
   ]
  },
  {
   "cell_type": "code",
   "execution_count": 6,
   "metadata": {},
   "outputs": [],
   "source": [
    "class Continent:\n",
    "    \n",
    "    def __init__(self,lst_countries_of_continent,bonus_of_continent):\n",
    "        self.bonus=bonus_of_continent\n",
    "        self.countries=lst_countries_of_continent\n",
    "    \n",
    "    # Function which check whether Player's color is on all the countries of the continent\n",
    "    def is_eligible_to_bonus(self):\n",
    "        pass\n",
    "    \n",
    "    # Function which provides the value of the bonus if the continent is fully occupied by Player.\n",
    "    def get_value_of_bonus(self):\n",
    "        return self.bonus\n",
    "    \n",
    "    \n",
    "    \n",
    "    "
   ]
  },
  {
   "cell_type": "code",
   "execution_count": null,
   "metadata": {},
   "outputs": [],
   "source": [
    "#class MAP to create the boardgame with functions to check whether the boardgame created manually or automatically makes sense\n",
    "class Map:\n",
    "    def __init__(self,limits,lst_continents):\n",
    "        self.frontiers=limits\n",
    "        self.allcontinents=lst_continents\n",
    "        self.allcountries=[Pays, for Pays in ]\n",
    "    \n",
    "    def get_all_continents(self):\n",
    "        self.al\n",
    "   \n",
    "    def get_all_countries(self):\n",
    "        self.allcountries=[Pays for Pays in]\n",
    "    \n",
    "    def Check_limits(self,limits,self.allcountries):\n",
    "        \n",
    "    "
   ]
  },
  {
   "cell_type": "code",
   "execution_count": 9,
   "metadata": {},
   "outputs": [],
   "source": [
    "France=Country('France')\n",
    "Italy=Country('Italy')\n",
    "Spain=Country('Spain')\n",
    "Morocco=Country('Morocco')\n",
    "Senegal=Country('Senegal')"
   ]
  },
  {
   "cell_type": "code",
   "execution_count": 10,
   "metadata": {},
   "outputs": [],
   "source": [
    "frontiers=[('France','Italy'), ('France','Spain'), ('Morocco','Spain')]"
   ]
  },
  {
   "cell_type": "code",
   "execution_count": 11,
   "metadata": {},
   "outputs": [],
   "source": [
    "Europe=Continent([France,Spain,Italy],5) \n",
    "Africa=Continent([Morocco,Senegal],3)"
   ]
  },
  {
   "cell_type": "code",
   "execution_count": null,
   "metadata": {},
   "outputs": [],
   "source": [
    "class Player:\n",
    "    def __init__(self,player_id):\n",
    "        self.id=player_id  # position of the player in the game\n",
    "        self.occupied_territories=dict() # dictionnary with the territories owned and the number on each territory\n",
    "        self.riskcards=[]\n",
    "        self.missions=[] #LAter maybe\n",
    "        self.stock=0 # counter for the reinforcement phase\n",
    "        \n",
    "    def get_occupied_territories(self,self.id):\n",
    "         #provide the list of territories occupied by the player\n",
    "        pass\n",
    "    \n",
    "    \n",
    "        \n",
    "        \n",
    "        "
   ]
  }
 ],
 "metadata": {
  "kernelspec": {
   "display_name": "Python 3",
   "language": "python",
   "name": "python3"
  },
  "language_info": {
   "codemirror_mode": {
    "name": "ipython",
    "version": 3
   },
   "file_extension": ".py",
   "mimetype": "text/x-python",
   "name": "python",
   "nbconvert_exporter": "python",
   "pygments_lexer": "ipython3",
   "version": "3.7.7"
  }
 },
 "nbformat": 4,
 "nbformat_minor": 4
}
