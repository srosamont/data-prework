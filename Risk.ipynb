{
 "cells": [
  {
   "cell_type": "code",
   "execution_count": null,
   "metadata": {},
   "outputs": [],
   "source": [
    "# rules of the game\n",
    "\"\"\"\n",
    "1) Equipment :\n",
    "3 red dice for attack\n",
    "3 blue dice for defense\n",
    "44 risk cards 'including 2 jokers: LATER'and 42 territories.\n",
    "14 mission cards: LATER\n",
    "No limit of troop\n",
    "\n",
    "2) preliminary set up of game\n",
    "Choose of troops depending of number of players => 3 players = 35 troops.....\n",
    "distribute all the territories randomly to the players and add exactly one troop of the player  on the territory.\n",
    "put the remaining troops in the stock of each Player\n",
    "\n",
    "\n",
    "Game for 2 players rules with neutral army: LATER\n",
    "40 troops per Player\n",
    "28 troops for the neutral army\n",
    "14 territories for the neutral army\n",
    "14 territories for each Player.\n",
    "2 troops on the territories of the neutral army\n",
    "1 troop on each territory of each player\n",
    "\n",
    "3)Who goes first? ==> give a player number \n",
    "\n",
    "4)The game itself\n",
    "    a)Additionnal set up of the game:\n",
    "Player 1 add 1 troop on one of its territories \n",
    "Player 2 add 1 troop on one of its territories ....and so on until all the troops are on the boardgame.\n",
    "    b) Let's begin the actual game\n",
    "Phase 1: reinforcement\n",
    "    Get on 1 troop for every 3 territories you own\n",
    "    Get bonus troops if you own the whole continent. Depends on the continent.\n",
    "    Get extra troops depending of the combinations of the symbols on 3 risk cards you play : 3 infantry: 4 troops, 3 cavalry: 6 troops, 3 artillery: 8 troops, one of each :10 troops. start with only one or 2 combinations.\n",
    "    Get extra troops depending of the territories on the risk cards you play: 2 extra troops if you are the owner of the territory at the moment you play\n",
    "   f \n",
    "Phase 2: Attack\n",
    "    Announce which territory attacks which territory. Be sure you take a atttacking territories from the territories you are occupying, and that those 2 territories are\n",
    "    actually neighbours.\n",
    "    Check if the destination territory does not belong to the player and if the number of troops is higher than 1 'no empty territory rule'\n",
    "    decide our many troops you want to commit for the attack\n",
    "    make sure that the number of troops attacking is <4 LATER\n",
    "    roll the 3 dices on both sides and compared the max of each side . The max wins and the min loses one troop . \n",
    "    Automatically roll the dices until there a strict difference between the dice.\n",
    "    maybe LATER : If the player attacking wins one or more territories : he wins 1 'territory cards '. Max 5 cars in the player hands==> he has to play them when its his turn and amount exceed 3.\n",
    "    the player can keep attacking as long as he wants or until he cannot play 'loss or only territories with one troop'\n",
    "    Display the board after every action\n",
    "\n",
    "Phase 3: Manoeuver\n",
    "    Can move only one group of troops from one territory to another . The territories have to belong to the player and no empty territory rule.\n",
    "    'move function to be create to handle phase 3 and phase 2 too'\n",
    "    \n",
    "5) Engame\n",
    "Either Player conquers at least 30 territories.\n",
    "    \n",
    "\"\"\""
   ]
  },
  {
   "cell_type": "code",
   "execution_count": 7,
   "metadata": {},
   "outputs": [],
   "source": [
    "class Country:\n",
    "    \n",
    "    def __init__(self,country_name):\n",
    "        self.name=country_name\n",
    "        self.color='White'\n",
    "        self.nbtroops=0\n",
    "     \n",
    "    #udpate the color of the coutry with the color of the player which occupied it.\n",
    "    def update_color_of_country(self,Player_obj):\n",
    "        self.color=Player_ojb.color\n",
    "        return self.color\n",
    "    \n",
    "    #udpate the number of troops which are in the country.\n",
    "    def update_nb_troops(self,new_troop_nb):\n",
    "        self.nbtroops=new_troop_nb\n",
    "        return self.nbtroops\n",
    "        "
   ]
  },
  {
   "cell_type": "code",
   "execution_count": 6,
   "metadata": {},
   "outputs": [],
   "source": [
    "class Continent:\n",
    "    \n",
    "    def __init__(self,lst_countries_of_continent,bonus_of_continent):\n",
    "        self.bonus=bonus_of_continent\n",
    "        self.countries=lst_countries_of_continent\n",
    "    \n",
    "    # Function which check whether Player's color is on all the countries of the continent\n",
    "    def is_eligible_to_bonus(self):\n",
    "        pass\n",
    "    \n",
    "    # Function which provides the value of the bonus if the continent is fully occupied by Player.\n",
    "    def get_value_of_bonus(self):\n",
    "        return self.bonus\n",
    "    \n",
    "    \n",
    "    \n",
    "    "
   ]
  },
  {
   "cell_type": "code",
   "execution_count": null,
   "metadata": {},
   "outputs": [],
   "source": [
    "#class MAP to create the boardgame with functions to check whether the boardgame created manually or automatically makes sense\n",
    "class Map:\n",
    "    def __init__(self,limits,lst_continents):\n",
    "        self.frontiers=limits\n",
    "        self.allcontinents=lst_continents\n",
    "        self.allcountries=[Pays, for Pays in ]\n",
    "    \n",
    "    def get_all_continents(self):\n",
    "        self.al\n",
    "        pass\n",
    "   \n",
    "    def get_all_countries(self):\n",
    "        self.allcountries=[Pays for Pays in]\n",
    "        pass\n",
    "    \n",
    "    def Check_limits(self,limits,self.allcountries):\n",
    "        pass\n",
    "        \n",
    "    "
   ]
  },
  {
   "cell_type": "code",
   "execution_count": 9,
   "metadata": {},
   "outputs": [],
   "source": [
    "France=Country('France')\n",
    "Italy=Country('Italy')\n",
    "Spain=Country('Spain')\n",
    "Morocco=Country('Morocco')\n",
    "Senegal=Country('Senegal')"
   ]
  },
  {
   "cell_type": "code",
   "execution_count": 10,
   "metadata": {},
   "outputs": [],
   "source": [
    "frontiers=[('France','Italy'), ('France','Spain'), ('Morocco','Spain')]"
   ]
  },
  {
   "cell_type": "code",
   "execution_count": 11,
   "metadata": {},
   "outputs": [],
   "source": [
    "Europe=Continent([France,Spain,Italy],5) \n",
    "Africa=Continent([Morocco,Senegal],3)"
   ]
  },
  {
   "cell_type": "code",
   "execution_count": 4,
   "metadata": {},
   "outputs": [],
   "source": [
    "  #dictionnary: territories with their ID\n",
    "        \n",
    "territory_id={\n",
    "    1: \"Alaska\", 2: \"Alberta\", 3: \"Central America\", 4: \"Eastern United States\", 5: \"Greenland\",\n",
    "    6: \"Northwest Territory\", 7: \"Ontario\", 8: \"Quebec\", 9: \"Western United States\",10: \"Argentina\", \n",
    "    11: \"Brazil\", 12: \"Peru\", 13: \"Venezuela\", 14: \"Great Britain\", 15: \"Iceland\", \n",
    "    16: \"Northern Europe\", 17: \"Scandinavia\", 18: \"Southern Europe\", 19: \"Ukraine\", 20: \"Western Europe\",\n",
    "    21: \"Congo\", 22: \"East Africa\", 23: \"Egypt\", 24: \"Madagascar\", 25: \"North Africa\",\n",
    "    26: \"South Africa\", 27: \"Afghanistan\", 28: \"China\", 29: \"India\", 30: \"Irkutsk\",\n",
    "    31: \"Japan\", 32: \"Kamchatka\", 33: \"Middle East\", 34: \"Mongolia\", 35: \"Siam \",\n",
    "    36: \"Siberia\", 37: \"Ural\", 38: \"Yakutsk\", 39: \"Eastern Australia\", 40: \"Indonesia\",\n",
    "    41: \"New Guinea\",42: \"Western Australia\"\n",
    "} \n",
    "     #list of territories \n",
    "        #dictionnary: territories with their ID, the ID of the player occupying the territory, the Nb of troops on the territory\n",
    "territory_occupation={\n",
    "    1: [1, 2],\n",
    "    2: [\"\", 0],\n",
    "    3: [\"\", 0],\n",
    "    4: [\"\", 0],\n",
    "    5: [\"\", 0],\n",
    "    6: [\"\", 0],\n",
    "    7: [\"\", 0],\n",
    "    8: [\"\", 0],\n",
    "    9: [\"\", 0],\n",
    "    10: [\"\", 0],\n",
    "    11: [\"\", 0],\n",
    "    12: [\"\", 0],\n",
    "    13: [\"\", 0],\n",
    "    14: [\"\", 0],\n",
    "    15: [\"\", 0],\n",
    "    16: [\"\", 0],\n",
    "    17: [\"\", 0],\n",
    "    18: [\"\", 0],\n",
    "    19: [\"\", 0],\n",
    "    20: [\"\", 0],\n",
    "    21: [\"\", 0],\n",
    "    22: [\"\", 0],\n",
    "    23: [\"\", 0],\n",
    "    24: [\"\", 0],\n",
    "    25: [\"\", 0],\n",
    "    26: [\"\", 0],\n",
    "    27: [\"\", 0],\n",
    "    28: [\"\", 0],\n",
    "    29: [\"\", 0],\n",
    "    30: [\"\", 0],\n",
    "    31: [\"\", 0],\n",
    "    32: [\"\", 0],\n",
    "    33: [\"\", 0],\n",
    "    34: [\"\", 0],\n",
    "    35: [\"\", 0],\n",
    "    36: [\"\", 0],\n",
    "    37: [\"\", 0],\n",
    "    38: [\"\", 0],\n",
    "    39: [\"\", 0],\n",
    "    40: [\"\", 0],\n",
    "    41: [\"\", 0],\n",
    "    42: [\"\", 0],\n",
    "}\n",
    "    \n",
    "     #Dictionnary: list of continents with the territories in each continent\n",
    "continent_id={\n",
    "    \"North America\":  [1, 2, 3, 4, 5, 6, 7, 8, 9],\n",
    "    \"South America\": [10, 11, 12, 13],\n",
    "    \"Europe\": [14, 15, 16, 17, 18, 19, 20],\n",
    "    \"Africa\": [21, 22, 23, 24, 25, 26],\n",
    "    \"Asia\": [27, 28, 29, 30, 31, 32, 33, 34, 35, 36, 37, 38],\n",
    "    \"Australia\": [39, 40, 41, 42]    \n",
    "}\n",
    "    \n",
    "    #Dictionnary: list of the territories with the borders (neighbour territories)\n",
    "neighour_id={\n",
    "    1: [2, 6, 32],\n",
    "    2: [1, 6, 7, 9],\n",
    "    9: [2, 3, 4, 7],\n",
    "    10: [11, 12],\n",
    "    11: [10, 12, 13, 25],\n",
    "    12: [10, 11, 13],\n",
    "    13: [3, 11, 12],\n",
    "    14: [15, 16, 17, 20],\n",
    "    15: [5, 16, 17],\n",
    "    16: [14, 17, 18, 19, 20],\n",
    "    17: [14, 15, 16, 19],\n",
    "    18: [16, 19, 20, 23, 25, 33],\n",
    "    19: [16, 17, 27, 33, 37],\n",
    "    20: [14, 16, 18, 25],\n",
    "    21: [22, 25, 26],\n",
    "    22: [21, 23, 24, 25, 26, 33],\n",
    "    23: [18, 22, 25, 33],\n",
    "    24: [22, 26],\n",
    "    25: [11, 18, 20, 21, 22, 23],\n",
    "    26: [21, 22, 24],\n",
    "    27: [19, 28, 29, 33, 37],\n",
    "    28: [27, 29, 34, 35, 36, 37],\n",
    "    29: [27, 28, 33, 35],\n",
    "    30: [32, 34, 36, 38],\n",
    "    31: [32, 34],\n",
    "    32: [1, 30, 31, 34, 38],\n",
    "    33: [18, 19, 22, 23, 27, 29],\n",
    "    34: [28, 30, 31, 32, 36],\n",
    "    35: [28, 29, 40],\n",
    "    36: [28, 30, 34, 37, 38],\n",
    "    37: [19, 27, 28, 36],\n",
    "    38: [30, 32, 36],  \n",
    "    39: [41, 42],\n",
    "    40: [35, 41, 42],\n",
    "    41: [39, 40, 42],\n",
    "    42: [39, 40, 41]\n",
    "}\n",
    "    "
   ]
  },
  {
   "cell_type": "code",
   "execution_count": 5,
   "metadata": {},
   "outputs": [],
   "source": [
    "class Player:\n",
    "\n",
    "    def __init__(self,player_id):\n",
    "        self.id=player_id  # position of the player in the game\n",
    "        self.occupied_territories=dict() # dictionnary with the territories owned and the number of troops on each territory\n",
    "        self.riskcards=[]\n",
    "        self.missions=[] #Later maybe\n",
    "        self.stock=0 # counter for the reinforcement phase\n",
    "        \n",
    "     #provide the list of territories occupied by the player \n",
    "    def get_occupied_territories(self):\n",
    "        self.occupied_territories={x:territory_occupation[x][1] for x in territory_occupation.keys() if territory_occupation[x][0]==self.id}\n",
    "        return self.occupied_territories\n",
    "    \n",
    "  \n",
    "    \n",
    "   \n",
    "        "
   ]
  },
  {
   "cell_type": "code",
   "execution_count": 6,
   "metadata": {},
   "outputs": [],
   "source": [
    "Joueur1=Player(1)\n",
    "Joueur2=Player(2)"
   ]
  },
  {
   "cell_type": "code",
   "execution_count": 7,
   "metadata": {},
   "outputs": [
    {
     "data": {
      "text/plain": [
       "{1: 2}"
      ]
     },
     "execution_count": 7,
     "metadata": {},
     "output_type": "execute_result"
    }
   ],
   "source": [
    "Joueur1.get_occupied_territories()"
   ]
  },
  {
   "cell_type": "code",
   "execution_count": 12,
   "metadata": {},
   "outputs": [],
   "source": [
    "  #choose of Number of troops in each game depending on the number of players\n",
    "def game_setup(NbPlayer):\n",
    "    army_size={2:34,3:35,4:30,5:35,6:20}\n",
    "    return army_size[NbPlayer]\n",
    "\n",
    "         "
   ]
  },
  {
   "cell_type": "code",
   "execution_count": 13,
   "metadata": {},
   "outputs": [
    {
     "data": {
      "text/plain": [
       "34"
      ]
     },
     "execution_count": 13,
     "metadata": {},
     "output_type": "execute_result"
    }
   ],
   "source": [
    "game_setup(2)"
   ]
  },
  {
   "cell_type": "code",
   "execution_count": 19,
   "metadata": {},
   "outputs": [
    {
     "name": "stdout",
     "output_type": "stream",
     "text": [
      "{1: 2, 15: 1, 5: 1, 25: 1, 4: 1, 3: 1, 21: 1, 11: 1, 12: 1, 39: 1, 37: 1, 9: 1, 19: 1, 32: 1, 10: 1, 34: 1, 38: 1, 7: 1, 24: 1, 42: 1, 40: 1, 13: 1, 23: 1, 33: 1, 16: 1, 8: 1, 18: 1, 2: 1, 14: 1, 20: 1, 17: 1, 26: 1, 31: 1, 30: 1, 35: 1, 41: 1, 6: 1} {36: 1, 30: 1, 20: 1, 16: 1, 22: 1, 23: 1, 26: 1, 1: 1, 33: 1, 8: 1, 31: 1, 41: 1, 28: 1, 6: 1, 27: 1, 2: 1, 29: 1, 17: 1, 35: 1, 18: 1, 14: 1, 21: 1, 38: 1, 39: 1, 12: 1, 42: 1, 15: 1, 25: 1, 11: 1, 3: 1, 7: 1, 9: 1, 5: 1, 10: 1, 13: 1}\n"
     ]
    }
   ],
   "source": [
    "\n",
    "#shuffle the territories\n",
    "import random\n",
    "deck_of_territories=random.sample(territory_id.keys(),len(territory_id.keys()))\n",
    "\n",
    "#distribute all the territories randomly to the players and add exactly one troop of the player  on the territory.\n",
    "#put the remaining troops in the stock of each Player\n",
    "for i,territory in enumerate(deck_of_territories):\n",
    "    if i%2==0:\n",
    "        Joueur1.occupied_territories[territory]=1    \n",
    "    else:\n",
    "        Joueur2.occupied_territories[territory]=1  \n",
    "print(Joueur1.occupied_territories,Joueur2.occupied_territories)"
   ]
  },
  {
   "cell_type": "code",
   "execution_count": null,
   "metadata": {},
   "outputs": [],
   "source": [
    "\"\"\"3)Who goes first? ==> give a player number \n",
    "\n",
    "4)The game itself\n",
    "    a)Additionnal set up of the game:\n",
    "Player 1 add 1 troop on one of its territories \n",
    "Player 2 add 1 troop on one of its territories ....and so on until all the troops are on the boardgame.\n",
    "    b) Let's begin the actual game\n",
    "Phase 1: reinforcement\n",
    "    Get on 1 troop for every 3 territories you own\n",
    "    Get bonus troops if you own the whole continent. Depends on the continent.\n",
    "    Get extra troops depending of the combinations of the symbols on 3 risk cards you play : 3 infantry: 4 troops, 3 cavalry: 6 troops, 3 artillery: 8 troops, one of each :10 troops. start with only one or 2 combinations.\n",
    "    Get extra troops depending of the territories on the risk cards you play: 2 extra troops if you are the owner of the territory at the moment you play\n",
    "   f \"\"\""
   ]
  }
 ],
 "metadata": {
  "kernelspec": {
   "display_name": "Python 3",
   "language": "python",
   "name": "python3"
  },
  "language_info": {
   "codemirror_mode": {
    "name": "ipython",
    "version": 3
   },
   "file_extension": ".py",
   "mimetype": "text/x-python",
   "name": "python",
   "nbconvert_exporter": "python",
   "pygments_lexer": "ipython3",
   "version": "3.7.7"
  }
 },
 "nbformat": 4,
 "nbformat_minor": 4
}
