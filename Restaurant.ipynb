{
 "cells": [
  {
   "cell_type": "code",
   "execution_count": 5,
   "metadata": {},
   "outputs": [],
   "source": [
    "class Takeanorder:\n",
    "    \n",
    "    #global attributes\n",
    "    restaurant_name='Aucun_Sushi'\n",
    "    menu=['Sushi', 'Sashimi', 'Chirashi', 'Gyoza']\n",
    "    allclients={33611000000:['Sandrine','Levallois'],33611000001:['Diego','Paris']} # all customers which already ordered with name numero and adress (Number :(name,number))\n",
    "    \n",
    "    def __init__(self):\n",
    "        self.order=[] #list with all the meals the customer wants to order\n",
    "            \n",
    "    def Takemealorder(self):\n",
    "        print('Welcome to Aucun Sushi, what would you like to order?')\n",
    "        menu1=self.menu\n",
    "        order_not_complete=True\n",
    "        while order_not_complete:\n",
    "            choice=str(input(f'Please choose between :{menu1}'))\n",
    "            self.order.append(choice)\n",
    "            finished=str(input('Is that all for your order? Yes or No? '))\n",
    "            if finished=='No':\n",
    "                continue\n",
    "            if finished=='Yes':\n",
    "                order_not_complete=False\n",
    "            else:\n",
    "                print('Sorry I do not understand your answer, Is your order finished? Have a look again to the menu') \n",
    "           \n",
    "        return self.order\n",
    "    \n",
    "    def TakeContactInfo(self):\n",
    "        client_directory=self.allclients\n",
    "        client_phone_number=int(input(('What is your phone number? ')))\n",
    "        if client_phone_number not in list(client_directory.keys()):\n",
    "            client_adress=str(input('What is the adress for the delivery? '))\n",
    "            client_name=str(input('What is the name for the delivery? '))\n",
    "            client_directory[client_phone_number]=[client_name,client_adress]\n",
    "        else:\n",
    "            name_check=str(input(f'Is the name for the delivery : {client_directory[client_phone_number][0]} ?. Yes or No')) \n",
    "            if name_check == 'No':\n",
    "                client_name=str(input('So, what is the name for the delivery? '))\n",
    "                client_directory[client_phone_number][0]=client_name\n",
    "        \n",
    "            adress_check=str(input(f'Is the adress for the delivery : {client_directory[client_phone_number][1]} ?. Yes or No'))\n",
    "            if adress_check == 'No':  \n",
    "                client_adress=str(input('So, what is the adress for the delivery? '))\n",
    "                client_directory[client_phone_number][1]=client_adress\n",
    "        return client_directory       \n",
    "                    \n",
    "    "
   ]
  },
  {
   "cell_type": "code",
   "execution_count": 6,
   "metadata": {},
   "outputs": [],
   "source": [
    "order_1=Takeanorder()"
   ]
  },
  {
   "cell_type": "code",
   "execution_count": 8,
   "metadata": {},
   "outputs": [
    {
     "name": "stdout",
     "output_type": "stream",
     "text": [
      "Welcome to Aucun Sushi, what would you like to order?\n",
      "Please choose between :['Sushi', 'Sashimi', 'Chirashi', 'Gyoza']Sushi\n",
      "Is that all for your order? Yes or No? No\n",
      "Please choose between :['Sushi', 'Sashimi', 'Chirashi', 'Gyoza']Gyoza\n",
      "Is that all for your order? Yes or No? Yes\n"
     ]
    },
    {
     "data": {
      "text/plain": [
       "['Sushi', 'Gyoza']"
      ]
     },
     "execution_count": 8,
     "metadata": {},
     "output_type": "execute_result"
    }
   ],
   "source": [
    "order_1.Takemealorder()"
   ]
  },
  {
   "cell_type": "code",
   "execution_count": 9,
   "metadata": {},
   "outputs": [
    {
     "name": "stdout",
     "output_type": "stream",
     "text": [
      "What is your phone number? 33611000000\n",
      "Is the name for the delivery : Sacha ?. Yes or NoYes\n",
      "Is the adress for the delivery : Coconut Island ?. Yes or NoNo\n",
      "So, what is the adress for the delivery? ttttt\n"
     ]
    },
    {
     "data": {
      "text/plain": [
       "{33611000000: ['Sacha', 'ttttt'], 33611000001: ['Diego', 'Paris']}"
      ]
     },
     "execution_count": 9,
     "metadata": {},
     "output_type": "execute_result"
    }
   ],
   "source": [
    "order_1.TakeContactInfo()"
   ]
  },
  {
   "cell_type": "code",
   "execution_count": null,
   "metadata": {},
   "outputs": [],
   "source": [
    "allclients={33611000000:('Sandrine','Levallois'),33611000001:('Diego','Paris')}\n",
    "list(allclients.keys())"
   ]
  },
  {
   "cell_type": "code",
   "execution_count": null,
   "metadata": {},
   "outputs": [],
   "source": [
    "\n",
    "\"\"\"\n",
    "class Takeanorder:\n",
    "    \n",
    "    #global attributes\n",
    "    restaurant_name='Aucun_Sushi'\n",
    "    menu=['Sushi', 'Sashimi', 'Chirashi', 'Gyoza']\n",
    "    allclients={33611000000:['Sandrine','Levallois'],33611000001:['Diego','Paris']} # all customers which already ordered with name numero and adress (Number :(name,number))\n",
    "    \n",
    "    def __init__(self):\n",
    "        \n",
    "        self.order={} #list with all the meals the customer wants to order\n",
    "            \n",
    "    def Takemealorder(self):\n",
    "        print('Welcome to Aucun Sushi, what would you like to order?')\n",
    "        menu1=self.menu\n",
    "        order_not_complete=True\n",
    "        while order_not_complete:\n",
    "            choice=str(input(f'Please choose between :{menu1}'))\n",
    "            Nb_choice=int(input(f'how many {choice} do you want?))\n",
    "            self.order[choice]=Nb_choice\n",
    "            finished=str(input('Is that all for your order? Yes or No? '))\n",
    "            if finished=='No':\n",
    "                continue\n",
    "            if finished=='Yes':\n",
    "                order_not_complete=False\n",
    "            else:\n",
    "                print('Sorry I do not understand your answer, Is your order finished? Have a look again to the menu') \n",
    "           \n",
    "        return self.order\n",
    "    \n",
    "    def TakeContactInfo(self):\n",
    "        client_directory=self.allclients\n",
    "        client_phone_number=int(input(('What is your phone number? ')))\n",
    "        if client_phone_number not in list(client_directory.keys()):\n",
    "            client_adress=str(input('What is the adress for the delivery? '))\n",
    "            client_name=str(input('What is the name for the delivery? '))\n",
    "            client_directory[client_phone_number]=[client_name,client_adress]\n",
    "        else:\n",
    "            name_check=str(input(f'Is the name for the delivery : {client_directory[client_phone_number][0]} ?. Yes or No')) \n",
    "            if name_check == 'No':\n",
    "                client_name=str(input('So, what is the name for the delivery? '))\n",
    "                client_directory[client_phone_number][0]=client_name\n",
    "        \n",
    "            adress_check=str(input(f'Is the adress for the delivery : {client_directory[client_phone_number][1]} ?. Yes or No'))\n",
    "            if adress_check == 'No':  \n",
    "                client_adress=str(input('So, what is the adress for the delivery? '))\n",
    "                client_directory[client_phone_number][1]=client_adress\n",
    "        return client_directory       \n",
    "        \"\"\""
   ]
  }
 ],
 "metadata": {
  "kernelspec": {
   "display_name": "Python 3",
   "language": "python",
   "name": "python3"
  },
  "language_info": {
   "codemirror_mode": {
    "name": "ipython",
    "version": 3
   },
   "file_extension": ".py",
   "mimetype": "text/x-python",
   "name": "python",
   "nbconvert_exporter": "python",
   "pygments_lexer": "ipython3",
   "version": "3.7.7"
  }
 },
 "nbformat": 4,
 "nbformat_minor": 4
}
