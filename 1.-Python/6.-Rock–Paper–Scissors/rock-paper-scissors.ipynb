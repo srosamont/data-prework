{
 "cells": [
  {
   "cell_type": "markdown",
   "metadata": {},
   "source": [
    "<img src=\"https://bit.ly/2VnXWr2\" width=\"100\" align=\"left\">"
   ]
  },
  {
   "cell_type": "markdown",
   "metadata": {},
   "source": [
    "# Rock, Paper & Scissors\n",
    "\n",
    "Let's play the famous game against our computer. You can check the rules [here](https://en.wikipedia.org/wiki/Rock%E2%80%93paper%E2%80%93scissors). \n",
    "\n",
    "## Task\n",
    "Create a program that imitates the playability of the well known game of rock, paper, scissors. Follow the guidelines provided.\n",
    "\n",
    "## Tools\n",
    "1. Loop: **for/while**\n",
    "2. Functions: **input(), print()...**\n",
    "3. Conditional statements: **if, elif, else**\n",
    "4. Definition of functions. Modular programming\n",
    "5. Import modules\n",
    "\n",
    "**To solve this challenge, the use of functions is recommended.**\n",
    "\n",
    "#### 1. Import the choice function of the random module."
   ]
  },
  {
   "cell_type": "code",
   "execution_count": 1,
   "metadata": {},
   "outputs": [],
   "source": [
    "from random import choice"
   ]
  },
  {
   "cell_type": "markdown",
   "metadata": {},
   "source": [
    "#### 2. Create a list that includes the 3 possible gesture options of the game: 'rock', 'paper' or 'scissors'. Store the list in a variable called `gestures`."
   ]
  },
  {
   "cell_type": "code",
   "execution_count": 2,
   "metadata": {},
   "outputs": [],
   "source": [
    "gestures=['rock','paper','scissors']"
   ]
  },
  {
   "cell_type": "markdown",
   "metadata": {},
   "source": [
    "#### 3. Create a variable called `n_rounds` to store the maximum number of rounds to play in a game. \n",
    "Remember that the number of rounds must be odd: 1, 3, 5, ..."
   ]
  },
  {
   "cell_type": "code",
   "execution_count": 3,
   "metadata": {},
   "outputs": [
    {
     "name": "stdout",
     "output_type": "stream",
     "text": [
      "Enter the maximum number of rounds to play in a game: 5\n"
     ]
    }
   ],
   "source": [
    "n_rounds=int(input('Enter the maximum number of rounds to play in a game: '))\n",
    "if n_rounds%2==0:\n",
    "    print('the number of rounds must be odd: 1, 3, 5, ...')"
   ]
  },
  {
   "cell_type": "markdown",
   "metadata": {},
   "source": [
    "#### 4. Create a variable called `rounds_to_win` to store the number of rounds that a player must win to win the game.\n",
    "**Hint**: the value stored in `rounds_to_win` depends on the value of `n_rounds`. "
   ]
  },
  {
   "cell_type": "code",
   "execution_count": 4,
   "metadata": {},
   "outputs": [],
   "source": [
    "rounds_to_win=(n_rounds+1)/2"
   ]
  },
  {
   "cell_type": "markdown",
   "metadata": {},
   "source": [
    "#### 5. Create two variables to store the number of rounds that the computer and the player have won. Call these variables `cpu_score` and `player_score`."
   ]
  },
  {
   "cell_type": "code",
   "execution_count": 5,
   "metadata": {},
   "outputs": [],
   "source": [
    "cpu_score=0\n",
    "player_score=0"
   ]
  },
  {
   "cell_type": "markdown",
   "metadata": {},
   "source": [
    "#### 6. Define a function that randomly returns one of the 3 gesture options.\n",
    "You will use this function to simulate the gesture choice of the computer. "
   ]
  },
  {
   "cell_type": "code",
   "execution_count": 6,
   "metadata": {},
   "outputs": [
    {
     "name": "stdout",
     "output_type": "stream",
     "text": [
      "scissors\n"
     ]
    }
   ],
   "source": [
    "def cpu_play(entree):\n",
    "    play_gesture=choice(entree)\n",
    "    return play_gesture\n",
    "print(cpu_play(gestures))"
   ]
  },
  {
   "cell_type": "markdown",
   "metadata": {},
   "source": [
    "#### 7. Define a function that asks the player which is the gesture he or she wants to show: 'rock', 'paper' or 'scissors'.\n",
    "The player should only be allowed to choose one of the 3 gesture options. If the player's choice is not rock, paper or scissors, keep asking until it is."
   ]
  },
  {
   "cell_type": "code",
   "execution_count": 7,
   "metadata": {
    "scrolled": true
   },
   "outputs": [
    {
     "name": "stdout",
     "output_type": "stream",
     "text": [
      "rock, paper or scissors, please select a gesture to show: scissors\n",
      "scissors\n"
     ]
    }
   ],
   "source": [
    "def which_gesture(entree):\n",
    "    to_show=''\n",
    "    while to_show not in entree:\n",
    "        to_show=input('rock, paper or scissors, please select a gesture to show: ')\n",
    "        if to_show in entree:\n",
    "            return to_show\n",
    "        else:\n",
    "            print('Selected gesture is not valid, please choose between rock, paper and scissors')\n",
    "print(which_gesture(gestures))"
   ]
  },
  {
   "cell_type": "code",
   "execution_count": 8,
   "metadata": {},
   "outputs": [],
   "source": [
    "#Avec while Trueà tester\n"
   ]
  },
  {
   "cell_type": "markdown",
   "metadata": {},
   "source": [
    "#### 8. Define a function that checks who won a round. \n",
    "The function should return 0 if there is a tie, 1 if the computer wins and 2 if the player wins."
   ]
  },
  {
   "cell_type": "code",
   "execution_count": 12,
   "metadata": {},
   "outputs": [
    {
     "name": "stdout",
     "output_type": "stream",
     "text": [
      "2\n"
     ]
    }
   ],
   "source": [
    "\n",
    "def winner_of_round(cpu,player):\n",
    "    \n",
    "    if cpu=='rock' and player=='paper':\n",
    "        return 2 \n",
    "    elif cpu=='rock' and player=='scissors':\n",
    "        return 1\n",
    "    elif cpu=='paper' and player=='scissors':\n",
    "        return 2    \n",
    "    elif cpu=='paper' and player=='rock':\n",
    "        return 1\n",
    "    elif cpu=='scissors'and player=='rock':\n",
    "        return 2  \n",
    "    elif cpu=='scissors'and player=='paper':\n",
    "        return 1\n",
    "    elif cpu==player:\n",
    "        return 0\n",
    "    else:\n",
    "        print('This should not happen')\n",
    "print(winner_of_round('paper','scissors'))"
   ]
  },
  {
   "cell_type": "code",
   "execution_count": 13,
   "metadata": {},
   "outputs": [],
   "source": [
    "#autre méthode\n",
    "def winner_of_round2(cpu,player):\n",
    "    cpu_win_config=set([('rock', 'scissors'), ('paper', 'rock'), ('scissors', 'paper')])\n",
    "    if cpu == player:\n",
    "        return 0\n",
    "    elif (cpu, player) in cpu_win_config:\n",
    "        return 1\n",
    "    else:\n",
    "        return 2"
   ]
  },
  {
   "cell_type": "markdown",
   "metadata": {},
   "source": [
    "#### 9. Define a function that prints the choice of the computer, the choice of the player and a message that announces who won the current round. \n",
    "You should also use this function to update the variables that count the number of rounds that the computer and the player have won. The score of the winner increases by one point. If there is a tie, the score does not increase."
   ]
  },
  {
   "cell_type": "code",
   "execution_count": 14,
   "metadata": {},
   "outputs": [
    {
     "name": "stdout",
     "output_type": "stream",
     "text": [
      "rock, paper or scissors, please select a gesture to show: paper\n",
      "CPU choice:  paper Player choice : paper\n",
      "0\n",
      "Tie\n",
      "(0, 0)\n"
     ]
    }
   ],
   "source": [
    "\n",
    "def crt_round(entree,cpu,player,cpu_score,player_score):\n",
    "    print('CPU choice: ',cpu,'Player choice :', player)\n",
    "    print(winner_of_round(cpu,player))\n",
    "    if winner_of_round(cpu,player)==0:\n",
    "        print('Tie')\n",
    "    elif winner_of_round(cpu,player)==1:\n",
    "        cpu_score+=1\n",
    "        print('Computer wins')\n",
    "    elif winner_of_round(cpu,player)==2:\n",
    "        player_score+=1\n",
    "        print('Player wins')\n",
    "    else:\n",
    "        print('This should not happen')\n",
    "    return (cpu_score,player_score)\n",
    "print(crt_round(gestures,cpu_play(gestures),which_gesture(gestures),0,0))"
   ]
  },
  {
   "cell_type": "markdown",
   "metadata": {},
   "source": [
    "#### 10. Now it's time to code the execution of the game using the functions and variables you defined above. \n",
    "\n",
    "First, create a loop structure that repeats while no player reaches the minimum score necessary to win and the number of rounds is less than the maximum number of rounds to play in a game.  \n",
    "\n",
    "Inside the loop, use the functions and variables above to create the execution of a round: ask for the player's choice, generate the random choice of the computer, show the round results, update the scores, etc. "
   ]
  },
  {
   "cell_type": "code",
   "execution_count": 16,
   "metadata": {},
   "outputs": [
    {
     "name": "stdout",
     "output_type": "stream",
     "text": [
      "Enter the maximum number of rounds to play in a game: 5\n",
      "rock, paper or scissors, please select a gesture to show: scissors\n",
      "Round number : 1\n",
      "CPU choice:  rock Player choice : scissors\n",
      "1\n",
      "Computer wins\n",
      "total results after this round is  (1, 0)\n",
      "rock, paper or scissors, please select a gesture to show: scissors\n",
      "Round number : 2\n",
      "CPU choice:  rock Player choice : scissors\n",
      "1\n",
      "Computer wins\n",
      "total results after this round is  (2, 0)\n",
      "rock, paper or scissors, please select a gesture to show: scissors\n",
      "Round number : 3\n",
      "CPU choice:  scissors Player choice : scissors\n",
      "0\n",
      "Tie\n",
      "total results after this round is  (2, 0)\n",
      "rock, paper or scissors, please select a gesture to show: scissors\n",
      "Round number : 4\n",
      "CPU choice:  paper Player choice : scissors\n",
      "2\n",
      "Player wins\n",
      "total results after this round is  (2, 1)\n",
      "rock, paper or scissors, please select a gesture to show: scissors\n",
      "Round number : 5\n",
      "CPU choice:  rock Player choice : scissors\n",
      "1\n",
      "Computer wins\n",
      "total results after this round is  (3, 1)\n",
      "Winner of the game is computer\n"
     ]
    }
   ],
   "source": [
    "x=0\n",
    "cpu_score=0\n",
    "player_score=0\n",
    "n_rounds=int(input('Enter the maximum number of rounds to play in a game: '))\n",
    "while n_rounds%2==0:\n",
    "    print('the number of rounds must be odd: 1, 3, 5, ...')\n",
    "    n_rounds=int(input('Enter the maximum number of rounds to play in a game: '))\n",
    "while player_score<rounds_to_win and cpu_score<rounds_to_win and x < n_rounds:\n",
    "    x+=1\n",
    "    player=which_gesture(gestures)\n",
    "    cpu=cpu_play(gestures)\n",
    "    print('Round number :',x)\n",
    "    (cpu_score,player_score)=crt_round(gestures,cpu,player,cpu_score,player_score)\n",
    "    print('total results after this round is ',(cpu_score,player_score))\n",
    "if player_score>=rounds_to_win:\n",
    "    print('Winner of the game is player')\n",
    "elif cpu_score>=rounds_to_win:\n",
    "    print('Winner of the game is computer')\n",
    "else:\n",
    "    print('Tie')\n",
    "\n",
    "        \n",
    "\n",
    "        \n",
    "        "
   ]
  },
  {
   "cell_type": "markdown",
   "metadata": {},
   "source": [
    "#### 11. Print the winner of the game based on who won more rounds.\n",
    "Remember that the game might be tied. "
   ]
  },
  {
   "cell_type": "code",
   "execution_count": null,
   "metadata": {},
   "outputs": [],
   "source": []
  },
  {
   "cell_type": "markdown",
   "metadata": {},
   "source": [
    "# Bonus: Rock, Paper, Scissors, Lizard & Spock\n",
    "![](images/rpsls.jpg)\n",
    "\n",
    "In this challenge, you need to improve the previous game by adding two new options. To know more about the rules of the improved version of rock, paper, scissors, check this [link](http://www.samkass.com/theories/RPSSL.html). \n",
    "\n",
    "In addition, you will also need to improve how the game interacts with the player: the number of rounds to play, which must be an odd number, will be requested to the user until a valid number is entered. Define a new function to make that request.\n",
    "\n",
    "**Hint**: Try to reuse the code that you already coded in the previous challenge. If your code is efficient, this bonus will only consist of simple modifications to the original game."
   ]
  },
  {
   "cell_type": "code",
   "execution_count": null,
   "metadata": {},
   "outputs": [],
   "source": []
  }
 ],
 "metadata": {
  "kernelspec": {
   "display_name": "Python 3",
   "language": "python",
   "name": "python3"
  },
  "language_info": {
   "codemirror_mode": {
    "name": "ipython",
    "version": 3
   },
   "file_extension": ".py",
   "mimetype": "text/x-python",
   "name": "python",
   "nbconvert_exporter": "python",
   "pygments_lexer": "ipython3",
   "version": "3.7.7"
  }
 },
 "nbformat": 4,
 "nbformat_minor": 2
}
