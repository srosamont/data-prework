{
 "cells": [
  {
   "cell_type": "markdown",
   "metadata": {},
   "source": [
    "<img src=\"https://bit.ly/2VnXWr2\" width=\"100\" align=\"left\">"
   ]
  },
  {
   "cell_type": "markdown",
   "metadata": {},
   "source": [
    "# The Snail and the Well\n",
    "\n",
    "A snail falls at the bottom of a 125 cm well. Each day the snail rises 30 cm. But at night, while sleeping, slides 20 cm because the walls are wet. How many days does it take for the snail to escape the well?\n",
    "\n",
    "**Hint**: The snail gets out of the well when it surpasses the 125cm of height.\n",
    "\n",
    "## Tools\n",
    "\n",
    "1. Loop: **while**\n",
    "2. Conditional statements: **if-else**\n",
    "3. Function: **print()**\n",
    "\n",
    "## Tasks\n",
    "\n",
    "#### 1. Assign the challenge data to variables with representative names: `well_height`, `daily_distance`, `nightly_distance` and `snail_position`."
   ]
  },
  {
   "cell_type": "code",
   "execution_count": 1,
   "metadata": {},
   "outputs": [],
   "source": [
    "well_height=125\n",
    "daily_distance=30\n",
    "nightly_distance=20\n",
    "snail_position=0"
   ]
  },
  {
   "cell_type": "markdown",
   "metadata": {},
   "source": [
    "#### 2. Create a variable `days` to keep count of the days that pass until the snail escapes the well. "
   ]
  },
  {
   "cell_type": "code",
   "execution_count": 2,
   "metadata": {},
   "outputs": [],
   "source": [
    "days=0"
   ]
  },
  {
   "cell_type": "markdown",
   "metadata": {},
   "source": [
    "#### 3. Find the solution to the challenge using the variables defined above. "
   ]
  },
  {
   "cell_type": "code",
   "execution_count": 3,
   "metadata": {},
   "outputs": [],
   "source": [
    "while snail_position<=well_height :\n",
    "   #Each day started is counted as one full day\n",
    "    days+=1\n",
    "    snail_position+=daily_distance\n",
    "    #Check the position of the snail before sleeping \"\n",
    "    if snail_position<=well_height:\n",
    "        snail_position-=nightly_distance\n",
    "     \n",
    "  "
   ]
  },
  {
   "cell_type": "markdown",
   "metadata": {},
   "source": [
    "#### 4. Print the solution."
   ]
  },
  {
   "cell_type": "code",
   "execution_count": 4,
   "metadata": {},
   "outputs": [
    {
     "name": "stdout",
     "output_type": "stream",
     "text": [
      "Number of days to get out of the well is  11\n"
     ]
    }
   ],
   "source": [
    "print('Number of days to get out of the well is ',days)"
   ]
  },
  {
   "cell_type": "markdown",
   "metadata": {},
   "source": [
    "## Bonus\n",
    "The distance traveled by the snail each day is now defined by a list.\n",
    "```\n",
    "advance_cm = [30, 21, 33, 77, 44, 45, 23, 45, 12, 34, 55]\n",
    "```\n",
    "On the first day, the snail rises 30cm but during the night it slides 20cm. On the second day, the snail rises 21cm but during the night it slides 20cm, and so on. \n",
    "\n",
    "#### 1. How many days does it take for the snail to escape the well?\n",
    "Follow the same guidelines as in the previous challenge.\n",
    "\n",
    "**Hint**: Remember that the snail gets out of the well when it surpasses the 125cm of height."
   ]
  },
  {
   "cell_type": "code",
   "execution_count": 5,
   "metadata": {},
   "outputs": [
    {
     "name": "stdout",
     "output_type": "stream",
     "text": [
      "Number of days to get out of the well is  6\n"
     ]
    }
   ],
   "source": [
    "well_height=125\n",
    "nightly_distance=20\n",
    "snail_position=0\n",
    "days=0\n",
    "advance_cm = [30, 21, 33, 77, 44, 45, 23, 45, 12, 34, 55]\n",
    "\n",
    "for daily_distance in advance_cm :\n",
    "    #as the snail gets out of the well when it surpasses 125cm, if it reaches exactly 125cm,\n",
    "    #it is considered as still in well.\n",
    "    if snail_position<=well_height :\n",
    "        days+=1\n",
    "        snail_position+=daily_distance\n",
    "        if snail_position<=well_height:\n",
    "            snail_position-=nightly_distance\n",
    "\n",
    "print ('Number of days to get out of the well is ',days)\n"
   ]
  },
  {
   "cell_type": "markdown",
   "metadata": {},
   "source": [
    "#### 2. What is its maximum displacement in one day? And its minimum? Calculate the displacement using only the travel distance of the days used to get out of the well. \n",
    "**Hint**: Remember that displacement means the total distance risen taking into account that the snail slides at night.  "
   ]
  },
  {
   "cell_type": "code",
   "execution_count": 6,
   "metadata": {},
   "outputs": [
    {
     "name": "stdout",
     "output_type": "stream",
     "text": [
      "Min_displacement in one day is  1\n",
      "Max_displacement in one day is  57\n"
     ]
    }
   ],
   "source": [
    "well_height=125\n",
    "nightly_distance=20\n",
    "snail_position=0\n",
    "displacement=[]\n",
    "one_day_displacement=0\n",
    "advance_cm = [30, 21, 33, 77, 44, 45, 23, 45, 12, 34, 55]\n",
    "\n",
    "for daily_distance in advance_cm :\n",
    "    if snail_position <=well_height:\n",
    "        one_day_displacement = daily_distance\n",
    "        snail_position+=one_day_displacement\n",
    "        \n",
    "        #Add each displacement in a list, as long as the snail is not out of the well. \n",
    "        #Negative displacements are taken into account if any.\n",
    "        if snail_position <=well_height:\n",
    "            snail_position-=nightly_distance\n",
    "            one_day_displacement-=nightly_distance\n",
    "            displacement.append(one_day_displacement)\n",
    "\n",
    "        else :\n",
    "            #when the snail surpasses the well height, there si no night slide \n",
    "            #and I take into account only the daily distance necessary to get out of the well.\n",
    "            excess_distance=snail_position-well_height\n",
    "            one_day_displacement=daily_distance-excess_distance\n",
    "            displacement.append(one_day_displacement)\n",
    "\n",
    "       \n",
    "print(\"Min_displacement in one day is \",min(displacement))\n",
    "print(\"Max_displacement in one day is \",max(displacement))"
   ]
  },
  {
   "cell_type": "markdown",
   "metadata": {},
   "source": [
    "#### 3. What is its average progress? Take into account the snail slides at night."
   ]
  },
  {
   "cell_type": "code",
   "execution_count": 7,
   "metadata": {},
   "outputs": [
    {
     "name": "stdout",
     "output_type": "stream",
     "text": [
      "Average progress to get out of the well is 20.833333333333332\n"
     ]
    }
   ],
   "source": [
    "'Days and displacements are calculated in question 1 and 2'\n",
    "#Last displacement is only the daily distance necessary to get out the well.\n",
    "average_progress=sum(displacement)/days\n",
    "print('Average progress to get out of the well is',average_progress)"
   ]
  },
  {
   "cell_type": "markdown",
   "metadata": {},
   "source": [
    "#### 4. What is the standard deviation of its displacement? Take into account the snail slides at night."
   ]
  },
  {
   "cell_type": "code",
   "execution_count": 8,
   "metadata": {
    "scrolled": true
   },
   "outputs": [
    {
     "name": "stdout",
     "output_type": "stream",
     "text": [
      "The standard deviation of its deplacement is 17.752151669273474\n"
     ]
    }
   ],
   "source": [
    "'Days, displacement and average_progress are calculated in question 1, 2 and 3'\n",
    "local_deviation =0\n",
    "lst_local_dev=[]\n",
    "for x in displacement:\n",
    "    local_deviation=(x-average_progress)**2\n",
    "    lst_local_dev.append(local_deviation)\n",
    "standard_deviation=(sum(lst_local_dev)/days)**(1/2)\n",
    "print('The standard deviation of its deplacement is', standard_deviation)\n",
    "    "
   ]
  },
  {
   "cell_type": "code",
   "execution_count": null,
   "metadata": {},
   "outputs": [],
   "source": []
  },
  {
   "cell_type": "code",
   "execution_count": 9,
   "metadata": {},
   "outputs": [
    {
     "name": "stdout",
     "output_type": "stream",
     "text": [
      "The standard deviation of its deplacement is 17.752151669273474\n"
     ]
    }
   ],
   "source": [
    "local_deviation =0\n",
    "total_sum=0\n",
    "\n",
    "\n",
    "for x in displacement:\n",
    "    local_deviation=(x-average_progress)**2\n",
    "    total_sum+=local_deviation\n",
    "    \n",
    "standard_deviation=(total_sum/days)**(1/2)\n",
    "print('The standard deviation of its deplacement is', standard_deviation)\n",
    "    "
   ]
  },
  {
   "cell_type": "code",
   "execution_count": null,
   "metadata": {},
   "outputs": [],
   "source": []
  }
 ],
 "metadata": {
  "kernelspec": {
   "display_name": "Python 3",
   "language": "python",
   "name": "python3"
  },
  "language_info": {
   "codemirror_mode": {
    "name": "ipython",
    "version": 3
   },
   "file_extension": ".py",
   "mimetype": "text/x-python",
   "name": "python",
   "nbconvert_exporter": "python",
   "pygments_lexer": "ipython3",
   "version": "3.7.7"
  }
 },
 "nbformat": 4,
 "nbformat_minor": 2
}
