{
 "cells": [
  {
   "cell_type": "markdown",
   "metadata": {},
   "source": [
    "<img src=\"https://bit.ly/2VnXWr2\" width=\"100\" align=\"left\"/>"
   ]
  },
  {
   "cell_type": "markdown",
   "metadata": {},
   "source": [
    "# Robin Hood\n",
    "Robin Hood has entered a competition to win the archery contest in Sherwood. With his bow and arrows, he needs to shoot on a target and try to hit as close as possible to the center.\n",
    "\n",
    "![](images/arrows.jpg)\n",
    "\n",
    "## Context\n",
    "In this challenge, the landing position of arrows shot by archers in the competition will be represented using 2-dimensional coordinates. \n",
    "\n",
    "In the 2-dimensional space, a point can be defined by a pair of values that correspond to the horizontal coordinate (x) and the vertical coordinate (y). For example, in our case, an arrow that hits the center of the archery target will land in position (0, 0) on the coordinate axes. \n",
    "\n",
    "The space can be divided into 4 zones (quadrants): Q1, Q2, Q3, Q4. If a point is in Q1, both its x coordinate and y coordinate are positive. Any point with a null x or y coordinate is considered to not belong to any quadrant. \n",
    "\n",
    "If you want to know more about the cartesian coordinate system, you can check this [link](https://en.wikipedia.org/wiki/Cartesian_coordinate_system). \n",
    "\n",
    "## Tools\n",
    "You don't necessarily need to use all the tools. Maybe you opt to use some of them or completely different ones, they are given to help you shape the exercise. Programming exercises can be solved in many different ways.\n",
    "* Data structures: **lists, sets, tuples**\n",
    "* Conditional statements: **if-elif-else**\n",
    "* Loop: **while/for**\n",
    "* Minimum (optional sorting)\n",
    "\n",
    "## Tasks\n",
    "Robin Hood has hit the following points:"
   ]
  },
  {
   "cell_type": "code",
   "execution_count": 1,
   "metadata": {},
   "outputs": [],
   "source": [
    "points = [(4, 5), (-0, 2), (4, 7), (1, -3), (3, -2), (4, 5), (3, 2), (5, 7), (-5, 7), (2, 2), (-4, 5), (0, -2),\n",
    "          (-4, 7), (-1, 3), (-3, 2), (-4, -5), (-3, 2), (5, 7), (5, 7), (2, 2), (9, 9), (-8, -9)]"
   ]
  },
  {
   "cell_type": "markdown",
   "metadata": {},
   "source": [
    "#### 1. Robin Hood is famous for hitting an arrow with another arrow. Find the coordinates of the points where an arrow hits another arrow."
   ]
  },
  {
   "cell_type": "code",
   "execution_count": 4,
   "metadata": {},
   "outputs": [
    {
     "name": "stdout",
     "output_type": "stream",
     "text": [
      "The coordinates of the points where an arrow hits another arrow are  {(4, 5), (5, 7), (-3, 2), (2, 2)}\n"
     ]
    }
   ],
   "source": [
    "points = [(4, 5), (-0, 2), (4, 7), (1, -3), (3, -2), (4, 5), (3, 2), (5, 7), (-5, 7), (2, 2), (-4, 5), (0, -2),\n",
    "          (-4, 7), (-1, 3), (-3, 2), (-4, -5), (-3, 2), (5, 7), (5, 7), (2, 2), (9, 9), (-8, -9)]\n",
    "\n",
    "multiple_hit_points=[]\n",
    "\n",
    "for crt_arrow in range(len(points)-1):\n",
    "    arrow_checked=crt_arrow+1\n",
    "    while arrow_checked <len(points):\n",
    "        if points[crt_arrow]==points[arrow_checked]:\n",
    "            multiple_hit_points.append(points[crt_arrow])\n",
    "            arrow_checked+=1\n",
    "        else:\n",
    "            arrow_checked+=1\n",
    "print('The coordinates of the points where an arrow hits another arrow are ', set(multiple_hit_points))\n"
   ]
  },
  {
   "cell_type": "markdown",
   "metadata": {},
   "source": [
    "#### 2. Calculate how many arrows have fallen in each quadrant. \n",
    "**Note**: the arrows that fall in the axis (x=0 or y=0) don't belong to any quadrant."
   ]
  },
  {
   "cell_type": "code",
   "execution_count": 6,
   "metadata": {},
   "outputs": [
    {
     "name": "stdout",
     "output_type": "stream",
     "text": [
      "Q1 =  [(4, 5), (4, 7), (4, 5), (3, 2), (5, 7), (2, 2), (5, 7), (5, 7), (2, 2), (9, 9)]\n",
      "Number of arrows in Q1:  10\n",
      "Q2 =  [(-5, 7), (-4, 5), (-4, 7), (-1, 3), (-3, 2), (-3, 2)]\n",
      "Number of arrows in Q2:  6\n",
      "Q3 =  [(-4, -5), (-8, -9)]\n",
      "Number of arrows in Q3:  2\n",
      "Q4 =  [(1, -3), (3, -2)]\n",
      "Number of arrows in Q4:  2\n",
      "No quandrant =  [(0, 2), (0, -2)]\n",
      "Number of arrows which do not belong to any quandrant is  2\n",
      "True\n"
     ]
    }
   ],
   "source": [
    "points = [(4, 5), (-0, 2), (4, 7), (1, -3), (3, -2), (4, 5), (3, 2), (5, 7), (-5, 7), (2, 2), (-4, 5), (0, -2),\n",
    "          (-4, 7), (-1, 3), (-3, 2), (-4, -5), (-3, 2), (5, 7), (5, 7), (2, 2), (9, 9), (-8, -9)]\n",
    "\n",
    "q1=[]\n",
    "q2=[]\n",
    "q3=[]\n",
    "q4=[]\n",
    "no_quadrant=[]\n",
    "#if x>0 et y>0 ==>  arrow is in Q1\n",
    "#if x<0 et y>0 ==>  arrow is in Q2\n",
    "#if x<0 et y<0 ==>  arrow is in Q3\n",
    "#if x>0 et y<0 ==>  arrow is in Q4\n",
    "for crt_arrow in points:\n",
    "    if crt_arrow[0]>0 and crt_arrow[1]>0:\n",
    "        q1.append(crt_arrow)\n",
    "    elif crt_arrow[0]<0 and crt_arrow[1]>0:\n",
    "        q2.append(crt_arrow)\n",
    "    elif crt_arrow[0]<0 and crt_arrow[1]<0:\n",
    "        q3.append(crt_arrow)\n",
    "    elif crt_arrow[0]>0 and crt_arrow[1]<0:\n",
    "        q4.append(crt_arrow)\n",
    "    else:\n",
    "        no_quadrant.append(crt_arrow)\n",
    "print('Q1 = ',q1)\n",
    "print('Number of arrows in Q1: ', len(q1))\n",
    "print('Q2 = ',q2)\n",
    "print('Number of arrows in Q2: ', len(q2))\n",
    "print('Q3 = ',q3)\n",
    "print('Number of arrows in Q3: ', len(q3))\n",
    "print('Q4 = ',q4)\n",
    "print('Number of arrows in Q4: ', len(q4))\n",
    "print('No quandrant = ',no_quadrant)\n",
    "print('Number of arrows which do not belong to any quandrant is ', len(no_quadrant))\n",
    "\n",
    "#check\n",
    "print((len(q1)+len(q2)+len(q3)+len(q4)+len(no_quadrant))==len(points))\n"
   ]
  },
  {
   "cell_type": "markdown",
   "metadata": {},
   "source": [
    "#### 3. Find the point closest to the center. Calculate its distance to the center. \n",
    "Take into account that there might be more than one point at the minimum distance to the center.\n",
    "\n",
    "**Hint**: Use the Euclidean distance. You can find more information about it [here](https://en.wikipedia.org/wiki/Euclidean_distance).  \n",
    "**Hint**: Defining a function that calculates the distance to the center can help."
   ]
  },
  {
   "cell_type": "code",
   "execution_count": 11,
   "metadata": {},
   "outputs": [
    {
     "name": "stdout",
     "output_type": "stream",
     "text": [
      "{(4, 5): 6.4031242374328485, (0, 2): 2.0, (4, 7): 8.06225774829855, (1, -3): 3.1622776601683795, (3, -2): 3.605551275463989, (3, 2): 3.605551275463989, (5, 7): 8.602325267042627, (-5, 7): 8.602325267042627, (2, 2): 2.8284271247461903, (-4, 5): 6.4031242374328485, (0, -2): 2.0, (-4, 7): 8.06225774829855, (-1, 3): 3.1622776601683795, (-3, 2): 3.605551275463989, (-4, -5): 6.4031242374328485, (9, 9): 12.727922061357855, (-8, -9): 12.041594578792296}\n",
      "The closest points are :  [(0, 2), (0, -2)]\n",
      "The minimum distance to the center is 2.0\n"
     ]
    }
   ],
   "source": [
    "points = [(4, 5), (-0, 2), (4, 7), (1, -3), (3, -2), (4, 5), (3, 2), (5, 7), (-5, 7), (2, 2), (-4, 5), (0, -2),\n",
    "          (-4, 7), (-1, 3), (-3, 2), (-4, -5), (-3, 2), (5, 7), (5, 7), (2, 2), (9, 9), (-8, -9)]\n",
    "dict_dist_center={}\n",
    "for crt_arrow in points:\n",
    "    distance_from_center=(crt_arrow[0]**2 + crt_arrow[1]**2)**(1/2)\n",
    "    dict_dist_center[crt_arrow]=distance_from_center\n",
    "print(dict_dist_center)\n",
    "min_dist_center=min(dict_dist_center.values())\n",
    "\n",
    "closest_point=[]\n",
    "for crt_arrow in points:\n",
    "    if (crt_arrow[0]**2 + crt_arrow[1]**2)**(1/2)==min_dist_center:\n",
    "        closest_point.append(crt_arrow)\n",
    "print('The closest points are : ',closest_point)\n",
    "print('The minimum distance to the center is',min_dist_center)\n",
    "\n",
    "#tester solution avec fonction"
   ]
  },
  {
   "cell_type": "markdown",
   "metadata": {},
   "source": [
    "#### 4. If the archery target has a radius of 9, calculate the number of arrows that won't hit the target. \n",
    "**Hint**: Use the function created in step 3. "
   ]
  },
  {
   "cell_type": "code",
   "execution_count": 16,
   "metadata": {},
   "outputs": [
    {
     "name": "stdout",
     "output_type": "stream",
     "text": [
      "Coordinates of arrows which do not it the target:  [(9, 9), (-8, -9)]\n",
      "The number of arrows that won't hit the target is  2\n"
     ]
    }
   ],
   "source": [
    "#the arrow which won't hit the target respect the formula x**2 +y**2>radius**2 \n",
    "radius =9\n",
    "not_in_target=[]\n",
    "for crt_arrow in points:\n",
    "    if (crt_arrow[0]**2 + crt_arrow[1]**2)**(1/2)>radius:\n",
    "        not_in_target.append(crt_arrow)\n",
    "print('Coordinates of arrows which do not it the target: ', not_in_target)\n",
    "print(\"The number of arrows that won't hit the target is \", len(not_in_target) )\n",
    "\n"
   ]
  },
  {
   "cell_type": "code",
   "execution_count": null,
   "metadata": {},
   "outputs": [],
   "source": []
  }
 ],
 "metadata": {
  "kernelspec": {
   "display_name": "Python 3",
   "language": "python",
   "name": "python3"
  },
  "language_info": {
   "codemirror_mode": {
    "name": "ipython",
    "version": 3
   },
   "file_extension": ".py",
   "mimetype": "text/x-python",
   "name": "python",
   "nbconvert_exporter": "python",
   "pygments_lexer": "ipython3",
   "version": "3.7.7"
  }
 },
 "nbformat": 4,
 "nbformat_minor": 2
}
