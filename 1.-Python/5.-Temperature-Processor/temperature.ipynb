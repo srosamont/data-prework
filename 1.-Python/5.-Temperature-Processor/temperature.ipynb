{
 "cells": [
  {
   "cell_type": "markdown",
   "metadata": {},
   "source": [
    "<img src=\"https://bit.ly/2VnXWr2\" width=\"100\" align=\"left\">"
   ]
  },
  {
   "cell_type": "markdown",
   "metadata": {},
   "source": [
    "# Temperature Sensor\n",
    "\n",
    "There is a temperature sensor in the processor of your company's server. The company wants to analyze the data provided by the sensor to decide if they should change the cooling system for a better one. As changing the cooling system is expensive and you are an excellent data analyst, you can't make a decision without basis.\n",
    "\n",
    "## Tools\n",
    "You don't necessarily need to use all the tools. Maybe you opt to use some of them or completely different ones, they are given to help you shape the exercise. Programming exercises can be solved in many different ways.\n",
    "1. Data structures: **lists**\n",
    "2. Loops: **list comprehension**\n",
    "3. Functions: **min, max, print, len**\n",
    "4. Conditional statements: **if-elif-else**\n",
    "\n",
    "## Tasks\n",
    "The temperatures measured throughout the 24 hours of a day are:"
   ]
  },
  {
   "cell_type": "code",
   "execution_count": 1,
   "metadata": {},
   "outputs": [],
   "source": [
    "temperatures_C = [33, 66, 65, 0, 59, 60, 62, 64, 70, 76, 80, 81, 80, 83, 90, 79, 61, 53, 50, 49, 53, 48, 45, 39]"
   ]
  },
  {
   "cell_type": "markdown",
   "metadata": {},
   "source": [
    "The first element of the list is the temperature at 12am, the second element is the temperature at 1am, and so on. \n",
    "\n",
    "The company has decided that if one of the following events occurs, then the cooling system needs to be replaced for a new one to avoid damaging the processor.\n",
    "* More than 4 temperatures are greater than or equal to 70ºC.\n",
    "* Any temperature is above 80ºC.\n",
    "* The average temperature exceeds 65ºC.\n",
    "\n",
    "Follow the steps so that you can make the decision.\n",
    "\n",
    "#### 1. Find the minimum temperature of the day and store it in a variable."
   ]
  },
  {
   "cell_type": "code",
   "execution_count": 2,
   "metadata": {},
   "outputs": [
    {
     "name": "stdout",
     "output_type": "stream",
     "text": [
      "0\n"
     ]
    }
   ],
   "source": [
    "temperatures_C = [33, 66, 65, 0, 59, 60, 62, 64, 70, 76, 80, 81, 80, 83, 90, 79, 61, 53, 50, 49, 53, 48, 45, 39]\n",
    "min_temp_day=min(temperatures_C)\n",
    "print(min_temp_day)"
   ]
  },
  {
   "cell_type": "markdown",
   "metadata": {},
   "source": [
    "#### 2. Find the maximum temperature of the day and store it in a variable."
   ]
  },
  {
   "cell_type": "code",
   "execution_count": 3,
   "metadata": {},
   "outputs": [
    {
     "name": "stdout",
     "output_type": "stream",
     "text": [
      "90\n"
     ]
    }
   ],
   "source": [
    "temperatures_C = [33, 66, 65, 0, 59, 60, 62, 64, 70, 76, 80, 81, 80, 83, 90, 79, 61, 53, 50, 49, 53, 48, 45, 39]\n",
    "max_temp_day=max(temperatures_C)\n",
    "print(max_temp_day)"
   ]
  },
  {
   "cell_type": "markdown",
   "metadata": {},
   "source": [
    "#### 3. Create a list with the temperatures that are greater than or equal to 70ºC. Store it in a variable."
   ]
  },
  {
   "cell_type": "code",
   "execution_count": 4,
   "metadata": {},
   "outputs": [
    {
     "name": "stdout",
     "output_type": "stream",
     "text": [
      "[70, 76, 80, 81, 80, 83, 90, 79]\n"
     ]
    }
   ],
   "source": [
    "temp_greater_than_70=[]\n",
    "for temp in temperatures_C:\n",
    "    if temp>=70:\n",
    "        temp_greater_than_70.append(temp)\n",
    "print(temp_greater_than_70)"
   ]
  },
  {
   "cell_type": "markdown",
   "metadata": {},
   "source": [
    "#### 4. Find the average temperature of the day and store it in a variable."
   ]
  },
  {
   "cell_type": "code",
   "execution_count": 5,
   "metadata": {},
   "outputs": [
    {
     "name": "stdout",
     "output_type": "stream",
     "text": [
      "the average temperature of the day:  60.25\n"
     ]
    }
   ],
   "source": [
    "avg_temp_day=sum(temperatures_C)/len(temperatures_C)\n",
    "print('the average temperature of the day: ',avg_temp_day)"
   ]
  },
  {
   "cell_type": "markdown",
   "metadata": {},
   "source": [
    "#### 5. Imagine that there was a sensor failure at 3am and the data for that specific hour was not recorded. How would you estimate the missing value? Replace the current value of the list at 3am for an estimation. "
   ]
  },
  {
   "cell_type": "code",
   "execution_count": 6,
   "metadata": {},
   "outputs": [
    {
     "name": "stdout",
     "output_type": "stream",
     "text": [
      "Estimation of the missing value would be  62.0\n",
      "Liste_Temperatures =  [33, 66, 65, 62.0, 59, 60, 62, 64, 70, 76, 80, 81, 80, 83, 90, 79, 61, 53, 50, 49, 53, 48, 45, 39]\n"
     ]
    }
   ],
   "source": [
    "#An estimation could be an average between the records of 2.am and 4.am\n",
    "estimation_3am=(temperatures_C[2]+temperatures_C[4])/2\n",
    "print('Estimation of the missing value would be ',estimation_3am)\n",
    "temperatures_C[3]=estimation_3am\n",
    "print('Liste_Temperatures = ',temperatures_C)"
   ]
  },
  {
   "cell_type": "markdown",
   "metadata": {},
   "source": [
    "#### 6. Bonus: the maintenance staff is from the United States and does not understand the international metric system. Help them by converting the temperatures from Celsius to Fahrenheit.\n",
    "To know more about temperature conversion check this [link](https://en.wikipedia.org/wiki/Conversion_of_units_of_temperature).\n",
    "\n",
    "**Formula**: \n",
    "\n",
    "$F = 1.8 * C + 32$"
   ]
  },
  {
   "cell_type": "code",
   "execution_count": 7,
   "metadata": {},
   "outputs": [
    {
     "name": "stdout",
     "output_type": "stream",
     "text": [
      "Conversion of the temperatures from Celsius to Fahrenheit  [91.4, 150.8, 149.0, 143.60000000000002, 138.2, 140.0, 143.60000000000002, 147.2, 158.0, 168.8, 176.0, 177.8, 176.0, 181.4, 194.0, 174.20000000000002, 141.8, 127.4, 122.0, 120.2, 127.4, 118.4, 113.0, 102.2]\n"
     ]
    }
   ],
   "source": [
    "Temp_Fahrenheit=[]\n",
    "for x in temperatures_C:\n",
    "    Temp_Fahrenheit.append(1.8*x+32)\n",
    "print('Conversion of the temperatures from Celsius to Fahrenheit ',  Temp_Fahrenheit)"
   ]
  },
  {
   "cell_type": "code",
   "execution_count": 8,
   "metadata": {},
   "outputs": [
    {
     "name": "stdout",
     "output_type": "stream",
     "text": [
      "Conversion of the temperatures from Celsius to Fahrenheit  [91.4, 150.8, 149.0, 143.60000000000002, 138.2, 140.0, 143.60000000000002, 147.2, 158.0, 168.8, 176.0, 177.8, 176.0, 181.4, 194.0, 174.20000000000002, 141.8, 127.4, 122.0, 120.2, 127.4, 118.4, 113.0, 102.2]\n",
      "Temperatures above 60 [66, 65, 62.0, 62, 64, 70, 76, 80, 81, 80, 83, 90, 79, 61]\n"
     ]
    }
   ],
   "source": [
    "#list comprehension method\n",
    "Temp_Fahrenheit=[1.8*x+32 for x in temperatures_C]\n",
    "print('Conversion of the temperatures from Celsius to Fahrenheit ',  Temp_Fahrenheit)\n",
    "temperatures_above_60 = [x for x in temperatures_C if x > 60]\n",
    "print('Temperatures above 60', temperatures_above_60)"
   ]
  },
  {
   "cell_type": "markdown",
   "metadata": {},
   "source": [
    "#### 7. Make a decision!\n",
    "Now it's time to make a decision taking into account what you have seen until now. \n",
    "\n",
    "Remember that if one of the following events occurs, then the cooling system needs to be replaced for a new one to avoid damaging the processor.\n",
    "* More than 4 temperatures are greater than or equal to 70ºC.\n",
    "* Any temperature is above 80ºC.\n",
    "* The average temperature exceeds 65ºC.\n",
    "\n",
    "#### To make your decision, check if any of the three conditions above is met. You might need to use some of the variables you created in steps 1 to 6. Print a message to show if the cooling system needs to be changed or not."
   ]
  },
  {
   "cell_type": "code",
   "execution_count": 9,
   "metadata": {},
   "outputs": [
    {
     "name": "stdout",
     "output_type": "stream",
     "text": [
      "the average temperature of the day:  62.833333333333336\n",
      "The cooling system needs to be changed\n"
     ]
    }
   ],
   "source": [
    "#I recalculate the average temperature with the estimation of 3am\n",
    "avg_temp_day=sum(temperatures_C)/len(temperatures_C)\n",
    "print('the average temperature of the day: ',avg_temp_day)\n",
    "\n",
    "if len(temp_greater_than_70)>4 or max_temp_day>80 or avg_temp_day>65:\n",
    "    print('The cooling system needs to be changed')\n",
    "else:\n",
    "    print('No need to change the cooling system')"
   ]
  },
  {
   "cell_type": "markdown",
   "metadata": {},
   "source": [
    "## Bonus\n",
    "\n",
    "The company has decided that the decision you made is not valid. They want you to analyze the data again but this time, the conditions that need to be met in order to change the cooling system are different.\n",
    "\n",
    "This time, if one of the following events occurs, then the cooling system needs to be replaced:\n",
    "* The temperature is greater than 70ºC during more than 4 consecutive hours.\n",
    "* Any temperature is above 80ºC.\n",
    "* The average temperature exceeds 65ºC.\n",
    "\n",
    "Follow the steps so that you can make the decision.\n",
    "\n",
    "#### 1. Create a list with the hours where the temperature is greater than 70ºC. Store it in a variable."
   ]
  },
  {
   "cell_type": "code",
   "execution_count": 10,
   "metadata": {},
   "outputs": [
    {
     "name": "stdout",
     "output_type": "stream",
     "text": [
      "The hours where the temperature is greater than 70°C are  [9, 10, 11, 12, 13, 14, 15]\n"
     ]
    }
   ],
   "source": [
    "#The temperature list used is the new list with the the estimated temperature for 3am.\n",
    "temperatures_C=[33, 66, 65, 62.0, 59, 60, 62, 64, 70, 76, 80, 81, 80, 83, 90, 79, 61, 53, 50, 49, 53, 48, 45, 39]\n",
    "lst_hours_greater_70=[]\n",
    "for index in range(len(temperatures_C)):\n",
    "    if temperatures_C[index]>70:\n",
    "        lst_hours_greater_70.append(index)\n",
    "print('The hours where the temperature is greater than 70°C are ',lst_hours_greater_70)\n",
    "        "
   ]
  },
  {
   "cell_type": "markdown",
   "metadata": {},
   "source": [
    "#### 2. Check if the list you created in step 1 has more than 4 consecutive hours. "
   ]
  },
  {
   "cell_type": "code",
   "execution_count": 11,
   "metadata": {},
   "outputs": [
    {
     "name": "stdout",
     "output_type": "stream",
     "text": [
      "turn 0 2\n",
      "turn 1 3\n",
      "turn 2 4\n",
      "turn 3 5\n",
      "There are more than 4 consecutive hours with a temperature greater than 70°C\n"
     ]
    }
   ],
   "source": [
    "\n",
    "Nb_consec_hour=1\n",
    "alert=False\n",
    "x=0\n",
    "for x in range (len(lst_hours_greater_70)-1):\n",
    "    if alert==False:\n",
    "        if (lst_hours_greater_70[x]+1==lst_hours_greater_70[x+1]):\n",
    "            Nb_consec_hour+=1\n",
    "            #check\n",
    "            print('turn', x,Nb_consec_hour)\n",
    "            \n",
    "            if Nb_consec_hour >4:\n",
    "                alert=True\n",
    "                print('There are more than 4 consecutive hours with a temperature greater than 70°C')\n",
    "        else:\n",
    "            Nb_consec_hour=1\n",
    "        \n",
    "if alert==False:\n",
    "    print('The temperature was not greater than 70°C during more than 4 consecutive hours')\n",
    "            \n",
    "    \n",
    "    \n",
    "    "
   ]
  },
  {
   "cell_type": "markdown",
   "metadata": {},
   "source": [
    "#### 3. Make the decision!\n",
    "To make your decision, check if any of the three conditions is met. Print a message to show if the cooling system needs to be changed or not."
   ]
  },
  {
   "cell_type": "code",
   "execution_count": 12,
   "metadata": {},
   "outputs": [
    {
     "name": "stdout",
     "output_type": "stream",
     "text": [
      "the average temperature of the day:  62.833333333333336\n",
      "The cooling system needs to be changed\n"
     ]
    }
   ],
   "source": [
    "\n",
    "avg_temp_day=sum(temperatures_C)/len(temperatures_C)\n",
    "print('the average temperature of the day: ',avg_temp_day)\n",
    "\n",
    "if alert==True or max(temperatures_C)>80 or avg_temp_day>65:\n",
    "    print('The cooling system needs to be changed')\n",
    "else:\n",
    "    print('No need to change the cooling system')"
   ]
  },
  {
   "cell_type": "markdown",
   "metadata": {},
   "source": [
    "#### 4. Find the average value of the temperature lists (ºC and ºF). What is the relation between both average values?"
   ]
  },
  {
   "cell_type": "code",
   "execution_count": 13,
   "metadata": {},
   "outputs": [
    {
     "name": "stdout",
     "output_type": "stream",
     "text": [
      "The average value of the temperature list in °C is  62.833333333333336\n",
      "The average value of the temperature list in °F is  145.1\n"
     ]
    }
   ],
   "source": [
    "def Average_lst(input):\n",
    "    Average=sum(input)/len(input)\n",
    "    return Average\n",
    "print('The average value of the temperature list in °C is ',Average_lst(temperatures_C))\n",
    "print('The average value of the temperature list in °F is ',Average_lst(Temp_Fahrenheit)) \n",
    "#Average value of temperature in °F = 1,8* (Average value in °C)+32"
   ]
  },
  {
   "cell_type": "markdown",
   "metadata": {},
   "source": [
    "#### 5. Find the standard deviation of the temperature lists (ºC and ºF). What is the relation between both standard deviations?"
   ]
  },
  {
   "cell_type": "code",
   "execution_count": 14,
   "metadata": {},
   "outputs": [
    {
     "name": "stdout",
     "output_type": "stream",
     "text": [
      "standard deviation (°C) is  14.633485192833897\n",
      "standard deviation (°F) is  26.34027334710101\n",
      "Check C  14.63348519283389\n",
      "Check F  26.340273347101107\n"
     ]
    }
   ],
   "source": [
    "def stand_dev(input):\n",
    "    somme_dev=0\n",
    "    mean=Average_lst(input)\n",
    "    for x in input:\n",
    "        somme_dev+=(x-mean)**2\n",
    "    standard_dev=(somme_dev/len(input))**(1/2)\n",
    "    return standard_dev\n",
    "print('standard deviation (°C) is ', stand_dev(temperatures_C))\n",
    "print('standard deviation (°F) is ', stand_dev(Temp_Fahrenheit))\n",
    "      \n",
    "  #  Check \n",
    "Check_std_devC=(Average_lst([x**2 for x in temperatures_C])-(Average_lst(temperatures_C))**2)**(1/2)\n",
    "Check_std_devF=(Average_lst([x**2 for x in Temp_Fahrenheit])-(Average_lst(Temp_Fahrenheit))**2)**(1/2)\n",
    "print('Check C ',Check_std_devC) \n",
    "print('Check F ',Check_std_devF)\n",
    "\n",
    "#relation between std dev °f =1,8*standard dev °C"
   ]
  },
  {
   "cell_type": "code",
   "execution_count": null,
   "metadata": {},
   "outputs": [],
   "source": []
  },
  {
   "cell_type": "code",
   "execution_count": null,
   "metadata": {},
   "outputs": [],
   "source": []
  }
 ],
 "metadata": {
  "kernelspec": {
   "display_name": "Python 3",
   "language": "python",
   "name": "python3"
  },
  "language_info": {
   "codemirror_mode": {
    "name": "ipython",
    "version": 3
   },
   "file_extension": ".py",
   "mimetype": "text/x-python",
   "name": "python",
   "nbconvert_exporter": "python",
   "pygments_lexer": "ipython3",
   "version": "3.7.7"
  }
 },
 "nbformat": 4,
 "nbformat_minor": 2
}
